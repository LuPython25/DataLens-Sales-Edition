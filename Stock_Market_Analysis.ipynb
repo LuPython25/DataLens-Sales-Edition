{
  "nbformat": 4,
  "nbformat_minor": 0,
  "metadata": {
    "colab": {
      "provenance": [],
      "authorship_tag": "ABX9TyNVtjrR2oHKuECoCsXi6bTV",
      "include_colab_link": true
    },
    "kernelspec": {
      "name": "python3",
      "display_name": "Python 3"
    },
    "language_info": {
      "name": "python"
    }
  },
  "cells": [
    {
      "cell_type": "markdown",
      "metadata": {
        "id": "view-in-github",
        "colab_type": "text"
      },
      "source": [
        "<a href=\"https://colab.research.google.com/github/LuPython25/Stock-Market-Analisys/blob/main/Stock_Market_Analysis.ipynb\" target=\"_parent\"><img src=\"https://colab.research.google.com/assets/colab-badge.svg\" alt=\"Open In Colab\"/></a>"
      ]
    },
    {
      "cell_type": "code",
      "execution_count": 2,
      "metadata": {
        "colab": {
          "base_uri": "https://localhost:8080/"
        },
        "id": "E6YMYBBiEgIA",
        "outputId": "eb66241f-ee7c-4a52-92e8-ed4adeb005ef"
      },
      "outputs": [
        {
          "output_type": "stream",
          "name": "stdout",
          "text": [
            "Hello, Data Analysis!\n",
            "la mia ragazza è quella più bella!\n"
          ]
        }
      ],
      "source": [
        "print(\"Hello, Data Analysis!\")\n",
        "print(\"la mia ragazza è quella più bella!\")"
      ]
    }
  ]
}